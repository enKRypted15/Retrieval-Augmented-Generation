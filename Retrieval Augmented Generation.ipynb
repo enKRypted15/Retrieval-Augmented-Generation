{
 "cells": [
  {
   "cell_type": "markdown",
   "id": "c4e32175",
   "metadata": {},
   "source": [
    "# Retrieval Augmented Generation\n",
    "## Using an LangChain and a local LLM on your machine with your data"
   ]
  },
  {
   "cell_type": "code",
   "execution_count": 1,
   "id": "a61bd71b",
   "metadata": {},
   "outputs": [],
   "source": [
    "# Import necessary packages\n",
    "\n",
    "from langchain.chains import RetrievalQA\n",
    "from langchain.document_loaders import PyPDFLoader\n",
    "from langchain.embeddings import HuggingFaceEmbeddings\n",
    "from langchain.llms import GPT4All\n",
    "from langchain.text_splitter import RecursiveCharacterTextSplitter\n",
    "from langchain.callbacks import StdOutCallbackHandler\n",
    "from langchain.vectorstores.faiss import FAISS"
   ]
  },
  {
   "cell_type": "code",
   "execution_count": 2,
   "id": "52f73256",
   "metadata": {},
   "outputs": [],
   "source": [
    "#1. INDEXING\n",
    "\n",
    "# Loading\n",
    "loader = PyPDFLoader(\"WIRED_article.pdf\")\n",
    "documents = loader.load_and_split()\n",
    "\n",
    "# Chunking\n",
    "text_splitter = RecursiveCharacterTextSplitter(chunk_size = 1024,\n",
    "                                               chunk_overlap = 64)\n",
    "\n",
    "texts = text_splitter.split_documents(documents)\n",
    "\n",
    "# Embedding\n",
    "embeddings = HuggingFaceEmbeddings(model_name=\"sentence-transformers/all-MiniLM-L6-v2\")\n",
    "\n",
    "# Storing in vector database\n",
    "vectorstore = FAISS.from_documents(texts, embeddings)\n",
    "\n",
    "# Define the retriever for the stored indices\n",
    "retriever = vectorstore.as_retriever()\n"
   ]
  },
  {
   "cell_type": "code",
   "execution_count": 3,
   "id": "363ba8eb",
   "metadata": {},
   "outputs": [],
   "source": [
    "# large language model you want to use\n",
    "# LLM path\n",
    "llama_7b_path = r'/model_path/llama-2-7b-chat.Q8_0.gguf'\n",
    "\n",
    "# Create the LLM instance\n",
    "llm = GPT4All(model=llama_7b_path,\n",
    "              max_tokens=1000, \n",
    "              verbose=True, \n",
    "              repeat_last_n=0)"
   ]
  },
  {
   "cell_type": "code",
   "execution_count": 4,
   "id": "ef51bbe9",
   "metadata": {},
   "outputs": [],
   "source": [
    "#2. RETRIEVING\n",
    "\n",
    "#create a retrieval chain with the document source in the vector store\n",
    "qa_chain_with_sources = RetrievalQA.from_chain_type(llm=llm,\n",
    "                                                    retriever=retriever,\n",
    "                                                    callbacks=[StdOutCallbackHandler()],\n",
    "                                                    return_source_documents=True)"
   ]
  },
  {
   "cell_type": "code",
   "execution_count": 5,
   "id": "291e1b15",
   "metadata": {},
   "outputs": [
    {
     "name": "stdout",
     "output_type": "stream",
     "text": [
      "\n",
      "\n",
      "\u001b[1m> Entering new RetrievalQA chain...\u001b[0m\n",
      "\n",
      "\u001b[1m> Finished chain.\u001b[0m\n"
     ]
    }
   ],
   "source": [
    "#3. AUGMENTING\n",
    "\n",
    "# Send the augmented user query to the LLM to get the response\n",
    "response = qa_chain_with_sources({\"query\":\"what is EEAGER and why is it used?\"})"
   ]
  },
  {
   "cell_type": "code",
   "execution_count": 6,
   "id": "50725a69",
   "metadata": {},
   "outputs": [
    {
     "data": {
      "text/plain": [
       "' EEAGER stands for Earth Engine Automated Geospatial Elements Recognition. It is a machine learning algorithm developed by Google that can identify beaver dams in satellite imagery with a high degree of accuracy. EEAGER is used to help scientists and conservationists monitor beaver populations, track their movements, and understand their role in ecosystems. By using EEAGER to analyze satellite imagery, researchers can identify beaver dams and ponds more quickly and accurately than by manually reviewing images, which can save time and resources.'"
      ]
     },
     "execution_count": 6,
     "metadata": {},
     "output_type": "execute_result"
    }
   ],
   "source": [
    "response['result']"
   ]
  },
  {
   "cell_type": "code",
   "execution_count": 7,
   "id": "ddd7b5eb",
   "metadata": {
    "scrolled": true
   },
   "outputs": [
    {
     "data": {
      "text/plain": [
       "[Document(page_content='model also relies on context clues from the surrounding landscape, and a sagebrush plateau in Wyoming\\nlooks very different from a deciduous forest in Massachusetts.) The team also has to figure out EEAGER’s\\nlong-term fate: Will it remain a tool hosted by Google? Spin off into a stand-alone product? Become a\\nservice operated by a university or nonprofit?\\n“That’s the challenge for the future—how do we make this more universally accessible and usable?” Corwin\\nsays. The beaver revolution may not be televised, but it will definitely be documented by satellite.', metadata={'source': 'WIRED_article.pdf', 'page': 6}),\n",
       " Document(page_content='tries to figure out whether a given chunk of geospatial data includes a particular object—whether a stretch\\nof mountain stream contains a beaver dam, say. Fairfax and some obliging beaverologists from Utah State\\nUniversity submitted thousands of coordinates for confirmed dams, ponds, and canals, which the Googlers\\nmatched up with their own high-resolution images to teach the model to recognize the distinctive\\nappearance of beaverworks. The team also fed the algorithm negative data—images of beaverless streams\\nand wetlands—so that it would know what it wasn’t looking for. They dubbed their model the Earth Engine\\nAutomated Geospatial Elements Recognition, or EEAGER—yes, as in “eager beaver.”\\nTraining EEAGER to pick out beaver ponds wasn’t easy. The American West was rife with human-built\\nfeatures that seemed practically designed to fool a beaver-seeking model. Curving roads reminded EEAGER\\nof winding dams; the edges of man-made reservoirs registered as beaver-built ponds. Most confounding,', metadata={'source': 'WIRED_article.pdf', 'page': 4}),\n",
       " Document(page_content='them to thousands of probable beaver sites.\\n“We’re not going to replace the expertise of biologists,” Ackerstein says. “But the model’s success is making\\nhuman identification much more efficient.”\\nAccording to Fairfax, EEAGER’s use cases are many. The model could be used to estimate beaver numbers,\\nmonitor population trends, and calculate beaver-provided ecosystem services like water storage and fire\\nprevention. It could help states figure out where to reintroduce beavers, where to target stream and wetland\\nrestoration, and where to create conservation areas. It could allow researchers to track beavers’ spread in\\nthe Arctic as the rodents move north with climate change; or their movements in South America, where\\nbeavers were introduced in the 1940s and have since proliferated. “We literally cannot handle all the\\nrequests we’re getting,” says Fairfax, who serves as EEAGER’s scientific adviser.\\nThe algorithm’s most promising application might be in California. The Golden State has a tortured', metadata={'source': 'WIRED_article.pdf', 'page': 5}),\n",
       " Document(page_content='1/2/24, 1:15 PM Spying on Beavers From Space Could Help Save California | WIRED\\nhttps://www.wired.com/story/spying-on-beavers-from-space-could-help-save-california/ 6/18Macfarlane, published a paper in the Journal of Geophysical Research Biogeosciences demonstrating the\\nmodel’s efficacy. The group fed EEAGER more than 13,000 landscape images with beaver dams from seven\\nwestern states, along with some 56,000 dam-less locations. The model categorized the landscape\\naccurately—beaver dammed or not—98.5 percent of the time.\\nThat statistic, granted, oversells EEAGER’s perfection. The Google team opted to make the model fairly\\nliberal, meaning that, when it predicts whether or not a pixel of satellite imagery contains a beaver dam, it’s\\nmore likely to err on the side of spitting out a false positive. EEAGER still requires a human to check its\\nanswers, in other words—but it can dramatically expedite the work of scientists like Fairfax by pointing\\nthem to thousands of probable beaver sites.', metadata={'source': 'WIRED_article.pdf', 'page': 5})]"
      ]
     },
     "execution_count": 7,
     "metadata": {},
     "output_type": "execute_result"
    }
   ],
   "source": [
    "response['source_documents']"
   ]
  },
  {
   "cell_type": "markdown",
   "id": "27fa1bd5",
   "metadata": {},
   "source": [
    "## Cross-check without external source"
   ]
  },
  {
   "cell_type": "code",
   "execution_count": 8,
   "id": "21ecbe50",
   "metadata": {},
   "outputs": [],
   "source": [
    "# Check model output without external vector sources\n",
    "vanilla_model = GPT4All(model=llama_7b_path,\n",
    "                        max_tokens=1000, \n",
    "                        verbose=True, \n",
    "                        repeat_last_n=0)\n",
    "\n",
    "output_check_1 = vanilla_model.generate([\"what is EEAGER and why is it used?\"])\n",
    "output_double_check = vanilla_model.generate([\"what is EEAGER and why is it used? The context is a Wired article about beavers\"])\n"
   ]
  },
  {
   "cell_type": "code",
   "execution_count": 9,
   "id": "269c0204",
   "metadata": {
    "scrolled": true
   },
   "outputs": [
    {
     "name": "stdout",
     "output_type": "stream",
     "text": [
      "\n",
      "\n",
      "EEAGER is a term used in the context of database systems and refers to the \"Eager Evaluation of Join Predicates\" technique. It is used to improve the performance of database queries by reducing the number of joins required in the query.\n",
      "In a typical database query, the join predicates are evaluated lazily, meaning that the join operation is performed only when the entire join result is needed. However, this can lead to inefficiencies, especially when dealing with large datasets.\n",
      "EEAGER addresses this issue by evaluating the join predicates eagerly, meaning that the join operation is performed as soon as possible, even if the entire join result is not needed immediately. This can significantly reduce the number of joins required in the query, resulting in improved performance.\n",
      "EEAGER is particularly useful in scenarios where the join predicates are complex or involve subqueries, as it can help avoid the overhead of re-evaluating the join predicates multiple times. It is also useful in distributed database systems, where the cost of network communication can be significant.\n",
      "In summary, EEAGER is a technique used to improve the performance of database queries by evaluating join predicates eager\n"
     ]
    }
   ],
   "source": [
    "print(output_check_1.generations[0][0].text)"
   ]
  },
  {
   "cell_type": "code",
   "execution_count": 10,
   "id": "a8d254e9",
   "metadata": {},
   "outputs": [
    {
     "name": "stdout",
     "output_type": "stream",
     "text": [
      " and their impact on the environment.\n",
      "EEAGER is an acronym for \"Environmental Engineered Artificial Grass Ecosystems\". It is a term used in the article to describe a new technology that uses artificial grass to create a sustainable ecosystem that can help to mitigate the effects of climate change.\n",
      "The article explains that beavers are known for their ability to create dams and wetlands that help to regulate water flow and provide habitat for wildlife. However, beavers are currently facing extinction due to habitat loss and other environmental factors. To address this issue, researchers have developed EEAGER, a technology that uses artificial grass to mimic the ecosystem services provided by beavers.\n",
      "EEAGER works by creating a series of interconnected artificial grass modules that can be deployed in a variety of environments, including wetlands, rivers, and coastal areas. These modules are designed to mimic the natural processes that occur in beaver-created ecosystems, such as water filtration, sedimentation, and habitat creation. By recreating these processes using artificial grass, EEAGER can help to restore and enhance the natural environment\n"
     ]
    }
   ],
   "source": [
    "print(output_double_check.generations[0][0].text)"
   ]
  }
 ],
 "metadata": {
  "kernelspec": {
   "display_name": "Python 3 (ipykernel)",
   "language": "python",
   "name": "python3"
  },
  "language_info": {
   "codemirror_mode": {
    "name": "ipython",
    "version": 3
   },
   "file_extension": ".py",
   "mimetype": "text/x-python",
   "name": "python",
   "nbconvert_exporter": "python",
   "pygments_lexer": "ipython3",
   "version": "3.11.3"
  }
 },
 "nbformat": 4,
 "nbformat_minor": 5
}
